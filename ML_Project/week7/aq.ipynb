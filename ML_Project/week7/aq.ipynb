{
 "cells": [
  {
   "cell_type": "code",
   "execution_count": 1,
   "metadata": {},
   "outputs": [],
   "source": [
    "import pandas as pd\n",
    "import numpy as np\n",
    "import matplotlib.pyplot as plt"
   ]
  },
  {
   "cell_type": "code",
   "execution_count": 2,
   "metadata": {},
   "outputs": [
    {
     "data": {
      "text/html": [
       "<div>\n",
       "<style scoped>\n",
       "    .dataframe tbody tr th:only-of-type {\n",
       "        vertical-align: middle;\n",
       "    }\n",
       "\n",
       "    .dataframe tbody tr th {\n",
       "        vertical-align: top;\n",
       "    }\n",
       "\n",
       "    .dataframe thead th {\n",
       "        text-align: right;\n",
       "    }\n",
       "</style>\n",
       "<table border=\"1\" class=\"dataframe\">\n",
       "  <thead>\n",
       "    <tr style=\"text-align: right;\">\n",
       "      <th></th>\n",
       "      <th>outlook</th>\n",
       "      <th>play</th>\n",
       "    </tr>\n",
       "  </thead>\n",
       "  <tbody>\n",
       "    <tr>\n",
       "      <th>0</th>\n",
       "      <td>Rainy</td>\n",
       "      <td>Yes</td>\n",
       "    </tr>\n",
       "    <tr>\n",
       "      <th>1</th>\n",
       "      <td>Sunny</td>\n",
       "      <td>Yes</td>\n",
       "    </tr>\n",
       "    <tr>\n",
       "      <th>2</th>\n",
       "      <td>Overcast</td>\n",
       "      <td>Yes</td>\n",
       "    </tr>\n",
       "    <tr>\n",
       "      <th>3</th>\n",
       "      <td>Overcast</td>\n",
       "      <td>Yes</td>\n",
       "    </tr>\n",
       "    <tr>\n",
       "      <th>4</th>\n",
       "      <td>Sunny</td>\n",
       "      <td>No</td>\n",
       "    </tr>\n",
       "  </tbody>\n",
       "</table>\n",
       "</div>"
      ],
      "text/plain": [
       "    outlook play\n",
       "0     Rainy  Yes\n",
       "1     Sunny  Yes\n",
       "2  Overcast  Yes\n",
       "3  Overcast  Yes\n",
       "4     Sunny   No"
      ]
     },
     "execution_count": 2,
     "metadata": {},
     "output_type": "execute_result"
    }
   ],
   "source": [
    "data = {\n",
    "    \"outlook\": [\"Rainy\", \"Sunny\", \"Overcast\", \"Overcast\", \"Sunny\", \"Rainy\", \"Sunny\", \"Overcast\", \n",
    "                \"Rainy\", \"Sunny\", \"Sunny\", \"Rainy\", \"Overcast\", \"Overcast\"],\n",
    "    \"play\": [\"Yes\", \"Yes\", \"Yes\", \"Yes\", \"No\", \"Yes\", \"Yes\", \"Yes\", \"No\", \"No\", \"Yes\", \"No\", \"Yes\", \"Yes\"]\n",
    "}\n",
    "\n",
    "df=pd.DataFrame(data)\n",
    "df.head()"
   ]
  },
  {
   "cell_type": "code",
   "execution_count": 3,
   "metadata": {},
   "outputs": [
    {
     "name": "stdout",
     "output_type": "stream",
     "text": [
      "10\n",
      "0.7142857142857143\n"
     ]
    }
   ],
   "source": [
    "p_yes=sum(df['play']==\"Yes\")/len(df)\n",
    "\n",
    "count_yes=sum(df['play']==\"Yes\")\n",
    "\n",
    "print(count_yes)\n",
    "print(p_yes)"
   ]
  },
  {
   "cell_type": "code",
   "execution_count": 4,
   "metadata": {},
   "outputs": [
    {
     "data": {
      "text/plain": [
       "0.3"
      ]
     },
     "execution_count": 4,
     "metadata": {},
     "output_type": "execute_result"
    }
   ],
   "source": [
    "count=0\n",
    "for i,j in zip(df['play'],df['outlook']):\n",
    "    if i==\"Yes\" and j==\"Sunny\":\n",
    "        count+=1\n",
    "\n",
    "p_sunny_yes=count/count_yes\n",
    "p_sunny_yes"
   ]
  },
  {
   "cell_type": "code",
   "execution_count": 5,
   "metadata": {},
   "outputs": [
    {
     "data": {
      "text/plain": [
       "0.35714285714285715"
      ]
     },
     "execution_count": 5,
     "metadata": {},
     "output_type": "execute_result"
    }
   ],
   "source": [
    "p_sunny=sum(df['outlook']==\"Sunny\")/len(df)\n",
    "p_sunny"
   ]
  },
  {
   "cell_type": "code",
   "execution_count": 6,
   "metadata": {},
   "outputs": [
    {
     "data": {
      "text/plain": [
       "0.6"
      ]
     },
     "execution_count": 6,
     "metadata": {},
     "output_type": "execute_result"
    }
   ],
   "source": [
    "p=(p_yes*p_sunny_yes)/p_sunny\n",
    "p"
   ]
  },
  {
   "cell_type": "code",
   "execution_count": 7,
   "metadata": {},
   "outputs": [],
   "source": [
    "data = {\n",
    "    \"weather\": [\"Rainy\", \"Rainy\", \"Overcast\", \"Sunny\", \"Sunny\", \"Sunny\", \"Overcast\", \"Rainy\", \"Rainy\", \"Sunny\", \"Rainy\", \"Overcast\", \"Overcast\", \"Sunny\"],\n",
    "    \"temp\": [\"Hot\", \"Hot\", \"Hot\", \"Mild\", \"Cool\", \"Cool\", \"Cool\", \"Mild\", \"Cool\", \"Mild\", \"Mild\", \"Mild\", \"Hot\", \"Mild\"],\n",
    "    \"humidity\": [\"High\", \"High\", \"High\", \"High\", \"Normal\", \"Normal\", \"Normal\", \"High\", \"Normal\", \"Normal\", \"Normal\", \"High\", \"Normal\", \"High\"],\n",
    "    \"windy\": [\"False\", \"True\", \"False\", \"False\", \"False\", \"True\", \"True\", \"False\", \"False\", \"False\", \"True\", \"True\", \"False\", \"True\"],\n",
    "    \"play\": [\"No\", \"No\", \"Yes\", \"Yes\", \"Yes\", \"No\", \"Yes\", \"No\", \"Yes\", \"Yes\", \"Yes\", \"Yes\", \"Yes\", \"No\"]\n",
    "}\n",
    "\n",
    "\n",
    "df = pd.DataFrame(data)"
   ]
  },
  {
   "cell_type": "code",
   "execution_count": 8,
   "metadata": {},
   "outputs": [
    {
     "name": "stdout",
     "output_type": "stream",
     "text": [
      "9\n",
      "0.6428571428571429\n"
     ]
    }
   ],
   "source": [
    "count_yes=sum(df['play']==\"Yes\")\n",
    "p_yes=count_yes/len(df)\n",
    "\n",
    "print(count_yes)\n",
    "print(p_yes)"
   ]
  },
  {
   "cell_type": "code",
   "execution_count": 9,
   "metadata": {},
   "outputs": [
    {
     "data": {
      "text/plain": [
       "0.3333333333333333"
      ]
     },
     "execution_count": 9,
     "metadata": {},
     "output_type": "execute_result"
    }
   ],
   "source": [
    "count=0\n",
    "for i,j in zip(df['weather'],df['play']):\n",
    "    if i==\"Sunny\" and j==\"Yes\":\n",
    "        count+=1\n",
    "\n",
    "p_sunny_yes=count/count_yes\n",
    "p_sunny_yes"
   ]
  },
  {
   "cell_type": "code",
   "execution_count": 10,
   "metadata": {},
   "outputs": [
    {
     "data": {
      "text/plain": [
       "0.2222222222222222"
      ]
     },
     "execution_count": 10,
     "metadata": {},
     "output_type": "execute_result"
    }
   ],
   "source": [
    "count=0\n",
    "for i,j in zip(df['temp'],df['play']):\n",
    "    if i==\"Hot\" and j==\"Yes\":\n",
    "        count+=1\n",
    "\n",
    "p_hot_yes=count/count_yes\n",
    "p_hot_yes"
   ]
  },
  {
   "cell_type": "code",
   "execution_count": 11,
   "metadata": {},
   "outputs": [
    {
     "data": {
      "text/plain": [
       "0.3333333333333333"
      ]
     },
     "execution_count": 11,
     "metadata": {},
     "output_type": "execute_result"
    }
   ],
   "source": [
    "count=0\n",
    "for i,j in zip(df['humidity'],df['play']):\n",
    "    if i==\"High\" and j==\"Yes\":\n",
    "        count+=1\n",
    "\n",
    "p_high_yes=count/count_yes\n",
    "p_high_yes"
   ]
  },
  {
   "cell_type": "code",
   "execution_count": 12,
   "metadata": {},
   "outputs": [
    {
     "data": {
      "text/plain": [
       "0.6666666666666666"
      ]
     },
     "execution_count": 12,
     "metadata": {},
     "output_type": "execute_result"
    }
   ],
   "source": [
    "count=0\n",
    "for i,j in zip(df['windy'],df['play']):\n",
    "    if i==\"False\" and j==\"Yes\":\n",
    "        count+=1\n",
    "\n",
    "p_false_yes=count/count_yes\n",
    "p_false_yes"
   ]
  },
  {
   "cell_type": "code",
   "execution_count": 13,
   "metadata": {},
   "outputs": [
    {
     "data": {
      "text/plain": [
       "0.010582010582010581"
      ]
     },
     "execution_count": 13,
     "metadata": {},
     "output_type": "execute_result"
    }
   ],
   "source": [
    "p_plays_golf_given=p_yes*p_sunny_yes*p_hot_yes*p_high_yes*p_false_yes\n",
    "p_plays_golf_given"
   ]
  },
  {
   "cell_type": "code",
   "execution_count": 14,
   "metadata": {},
   "outputs": [
    {
     "name": "stdout",
     "output_type": "stream",
     "text": [
      "5\n",
      "0.35714285714285715\n"
     ]
    }
   ],
   "source": [
    "count_no=sum(df['play']==\"No\")\n",
    "p_no=count_no/len(df)\n",
    "\n",
    "print(count_no)\n",
    "print(p_no)"
   ]
  },
  {
   "cell_type": "code",
   "execution_count": 15,
   "metadata": {},
   "outputs": [
    {
     "data": {
      "text/plain": [
       "0.4"
      ]
     },
     "execution_count": 15,
     "metadata": {},
     "output_type": "execute_result"
    }
   ],
   "source": [
    "count=0\n",
    "for i,j in zip(df['weather'],df['play']):\n",
    "    if i==\"Sunny\" and j==\"No\":\n",
    "        count+=1\n",
    "\n",
    "p_sunny_no=count/count_no\n",
    "p_sunny_no"
   ]
  },
  {
   "cell_type": "code",
   "execution_count": 16,
   "metadata": {},
   "outputs": [
    {
     "data": {
      "text/plain": [
       "0.4"
      ]
     },
     "execution_count": 16,
     "metadata": {},
     "output_type": "execute_result"
    }
   ],
   "source": [
    "count=0\n",
    "for i,j in zip(df['temp'],df['play']):\n",
    "    if i==\"Hot\" and j==\"No\":\n",
    "        count+=1\n",
    "\n",
    "p_hot_no=count/count_no\n",
    "p_hot_no"
   ]
  },
  {
   "cell_type": "code",
   "execution_count": 17,
   "metadata": {},
   "outputs": [
    {
     "data": {
      "text/plain": [
       "0.8"
      ]
     },
     "execution_count": 17,
     "metadata": {},
     "output_type": "execute_result"
    }
   ],
   "source": [
    "count=0\n",
    "for i,j in zip(df['humidity'],df['play']):\n",
    "    if i==\"High\" and j==\"No\":\n",
    "        count+=1\n",
    "\n",
    "p_high_no=count/count_no\n",
    "p_high_no"
   ]
  },
  {
   "cell_type": "code",
   "execution_count": 18,
   "metadata": {},
   "outputs": [
    {
     "data": {
      "text/plain": [
       "0.4"
      ]
     },
     "execution_count": 18,
     "metadata": {},
     "output_type": "execute_result"
    }
   ],
   "source": [
    "count=0\n",
    "for i,j in zip(df['windy'],df['play']):\n",
    "    if i==\"False\" and j==\"No\":\n",
    "        count+=1\n",
    "\n",
    "p_false_no=count/count_no\n",
    "p_false_no"
   ]
  },
  {
   "cell_type": "code",
   "execution_count": 19,
   "metadata": {},
   "outputs": [
    {
     "data": {
      "text/plain": [
       "0.01828571428571429"
      ]
     },
     "execution_count": 19,
     "metadata": {},
     "output_type": "execute_result"
    }
   ],
   "source": [
    "p_NOT_plays_golf_given=p_no*p_sunny_no*p_hot_no*p_high_no*p_false_no\n",
    "p_NOT_plays_golf_given"
   ]
  },
  {
   "cell_type": "code",
   "execution_count": 20,
   "metadata": {},
   "outputs": [
    {
     "data": {
      "text/html": [
       "<div>\n",
       "<style scoped>\n",
       "    .dataframe tbody tr th:only-of-type {\n",
       "        vertical-align: middle;\n",
       "    }\n",
       "\n",
       "    .dataframe tbody tr th {\n",
       "        vertical-align: top;\n",
       "    }\n",
       "\n",
       "    .dataframe thead th {\n",
       "        text-align: right;\n",
       "    }\n",
       "</style>\n",
       "<table border=\"1\" class=\"dataframe\">\n",
       "  <thead>\n",
       "    <tr style=\"text-align: right;\">\n",
       "      <th></th>\n",
       "      <th>text</th>\n",
       "      <th>tag</th>\n",
       "    </tr>\n",
       "  </thead>\n",
       "  <tbody>\n",
       "    <tr>\n",
       "      <th>0</th>\n",
       "      <td>a great game</td>\n",
       "      <td>Sports</td>\n",
       "    </tr>\n",
       "    <tr>\n",
       "      <th>1</th>\n",
       "      <td>the election was over</td>\n",
       "      <td>NS</td>\n",
       "    </tr>\n",
       "    <tr>\n",
       "      <th>2</th>\n",
       "      <td>very clean match</td>\n",
       "      <td>Sports</td>\n",
       "    </tr>\n",
       "    <tr>\n",
       "      <th>3</th>\n",
       "      <td>a clean but forgettable game</td>\n",
       "      <td>Sports</td>\n",
       "    </tr>\n",
       "    <tr>\n",
       "      <th>4</th>\n",
       "      <td>it was a close election</td>\n",
       "      <td>NS</td>\n",
       "    </tr>\n",
       "  </tbody>\n",
       "</table>\n",
       "</div>"
      ],
      "text/plain": [
       "                           text     tag\n",
       "0                  a great game  Sports\n",
       "1         the election was over      NS\n",
       "2              very clean match  Sports\n",
       "3  a clean but forgettable game  Sports\n",
       "4       it was a close election      NS"
      ]
     },
     "execution_count": 20,
     "metadata": {},
     "output_type": "execute_result"
    }
   ],
   "source": [
    "df=pd.read_csv(r\"C:\\Users\\plane\\Home\\Desktop\\ML_Project\\week7\\text_data.csv\")\n",
    "df"
   ]
  },
  {
   "cell_type": "code",
   "execution_count": 21,
   "metadata": {},
   "outputs": [
    {
     "name": "stdout",
     "output_type": "stream",
     "text": [
      "14\n",
      "{'clean', 'but', 'a', 'match', 'election', 'great', 'over', 'it', 'close', 'forgettable', 'game', 'was', 'very', 'the'}\n"
     ]
    }
   ],
   "source": [
    "word_set=set()\n",
    "for i in df['text']:\n",
    "    sent=i.split()\n",
    "\n",
    "    for j in sent:\n",
    "        word_set.add(j)\n",
    "tot=len(word_set)\n",
    "print(len(word_set))\n",
    "print(word_set)"
   ]
  },
  {
   "cell_type": "code",
   "execution_count": 22,
   "metadata": {},
   "outputs": [
    {
     "name": "stdout",
     "output_type": "stream",
     "text": [
      "11\n",
      "9\n"
     ]
    }
   ],
   "source": [
    "s_word_count=0\n",
    "ns_word_count=0\n",
    "\n",
    "for i,j in zip(df['text'],df['tag']):\n",
    "    w=i.split()\n",
    "    if j==\"Sports\":\n",
    "        s_word_count+=len(w)\n",
    "    else:\n",
    "        ns_word_count+=len(w)\n",
    "\n",
    "\n",
    "print(s_word_count)\n",
    "print(ns_word_count)"
   ]
  },
  {
   "cell_type": "code",
   "execution_count": 23,
   "metadata": {},
   "outputs": [
    {
     "name": "stdout",
     "output_type": "stream",
     "text": [
      "0.6\n",
      "0.4\n"
     ]
    }
   ],
   "source": [
    "p_sports=sum(df['tag']==\"Sports\")/len(df)\n",
    "p_not_sports=sum(df['tag']==\"NS\")/len(df)\n",
    "\n",
    "print(p_sports)\n",
    "print(p_not_sports)"
   ]
  },
  {
   "cell_type": "code",
   "execution_count": 24,
   "metadata": {},
   "outputs": [],
   "source": [
    "def laplacian_s(word):\n",
    "    count=0\n",
    "    for i,j in zip(df['text'],df['tag']):\n",
    "        if j==\"Sports\":\n",
    "            sent=i.split()\n",
    "            for k in sent:\n",
    "                if k==word:\n",
    "                    count+=1\n",
    "    \n",
    "    return (count+1)/(s_word_count+tot)\n",
    "\n",
    "\n",
    "def laplacian_ns(word):\n",
    "    count=0\n",
    "    for i,j in zip(df['text'],df['tag']):\n",
    "        if j==\"NS\":\n",
    "            sent=i.split()\n",
    "            for k in sent:\n",
    "                if k==word:\n",
    "                    count+=1\n",
    "    \n",
    "    return (count+1)/(ns_word_count+tot)\n",
    "\n",
    "\n"
   ]
  },
  {
   "cell_type": "code",
   "execution_count": 25,
   "metadata": {},
   "outputs": [
    {
     "name": "stdout",
     "output_type": "stream",
     "text": [
      "9.277129359360002e-24\n",
      "1.1343492032924032e-23\n"
     ]
    }
   ],
   "source": [
    "for i in \"a very close game\":\n",
    "    ps=laplacian_s(i)\n",
    "    p_sports*=ps\n",
    "\n",
    "    pns=laplacian_ns(i)\n",
    "    p_not_sports*=pns\n",
    "\n",
    "print(p_sports)\n",
    "print(p_not_sports)"
   ]
  },
  {
   "cell_type": "code",
   "execution_count": 26,
   "metadata": {},
   "outputs": [
    {
     "data": {
      "text/plain": [
       "14"
      ]
     },
     "execution_count": 26,
     "metadata": {},
     "output_type": "execute_result"
    }
   ],
   "source": [
    "tot"
   ]
  },
  {
   "cell_type": "code",
   "execution_count": 29,
   "metadata": {},
   "outputs": [
    {
     "data": {
      "text/plain": [
       "0.08695652173913043"
      ]
     },
     "execution_count": 29,
     "metadata": {},
     "output_type": "execute_result"
    }
   ],
   "source": [
    "laplacian_ns(\"close\")"
   ]
  }
 ],
 "metadata": {
  "kernelspec": {
   "display_name": "Python 3",
   "language": "python",
   "name": "python3"
  },
  "language_info": {
   "codemirror_mode": {
    "name": "ipython",
    "version": 3
   },
   "file_extension": ".py",
   "mimetype": "text/x-python",
   "name": "python",
   "nbconvert_exporter": "python",
   "pygments_lexer": "ipython3",
   "version": "3.9.19"
  }
 },
 "nbformat": 4,
 "nbformat_minor": 2
}
