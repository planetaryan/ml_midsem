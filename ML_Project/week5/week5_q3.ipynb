{
 "cells": [
  {
   "cell_type": "code",
   "execution_count": 1,
   "id": "bcb141fb",
   "metadata": {},
   "outputs": [],
   "source": [
    "import pandas as pd\n",
    "import numpy as np\n",
    "import matplotlib.pyplot as plt\n",
    "from sklearn.metrics import mean_squared_error, root_mean_squared_error"
   ]
  },
  {
   "cell_type": "code",
   "execution_count": 2,
   "id": "cb0ebfd9",
   "metadata": {},
   "outputs": [],
   "source": [
    "file=pd.DataFrame({'x1':[4,2,1,3,1,6],'x2':[1,8,0,2,4,7],'y':[2,-14,1,-1,-7,-8]})"
   ]
  },
  {
   "cell_type": "code",
   "execution_count": 3,
   "id": "cff883e8",
   "metadata": {},
   "outputs": [],
   "source": [
    "X1 = file[\"x1\"]\n",
    "X2 = file[\"x2\"]\n",
    "Y = file[\"y\"]\n",
    "X2 = np.array(X2)\n",
    "X1 = np.array(X1)\n",
    "Y = np.array(Y)"
   ]
  },
  {
   "cell_type": "code",
   "execution_count": 4,
   "id": "476cc31d",
   "metadata": {},
   "outputs": [],
   "source": [
    "def sigmoid(x):\n",
    "    return 1 / (1 + np.exp(-x))"
   ]
  },
  {
   "cell_type": "code",
   "execution_count": 5,
   "id": "a8ef77b0",
   "metadata": {},
   "outputs": [],
   "source": [
    "def compute_loss(y_true, y_pred):\n",
    "    epsilon = 1e-9\n",
    "    y1 = y_true * np.log(y_pred + epsilon)\n",
    "    y2 = (1-y_true) * np.log(1 - y_pred + epsilon)\n",
    "    return -np.mean(y1 + y2)"
   ]
  },
  {
   "cell_type": "code",
   "execution_count": 6,
   "id": "fdecb982",
   "metadata": {},
   "outputs": [
    {
     "name": "stdout",
     "output_type": "stream",
     "text": [
      "-4.510594002763053 -12.852387654592796 -32.67948211568255\n"
     ]
    }
   ],
   "source": [
    "b1 = 0\n",
    "b2 = 0\n",
    "b0 = 0\n",
    "L = 0.001\n",
    "log = []\n",
    "for _ in range(1000):\n",
    "    errors = sigmoid(b0 + b1 * X1 + b2 * X2) - Y\n",
    "    b0 -= L * np.sum(errors) / len(X1)\n",
    "    b1 -= L * np.sum(errors * X1) / len(X1)\n",
    "    b2 -= L * np.sum(errors * X2) / len(X2)\n",
    "    y_p = sigmoid(b0+b1*X1+b2*X2)\n",
    "    loss = compute_loss(Y, y_p)\n",
    "    log.append(loss)\n",
    "\n",
    "Y_pred_sigmoid = sigmoid(b0 + b1 * X1 + b2 * X2)\n",
    "print(b0, b1, b2)"
   ]
  },
  {
   "cell_type": "code",
   "execution_count": 7,
   "id": "2133e26e",
   "metadata": {},
   "outputs": [
    {
     "name": "stdout",
     "output_type": "stream",
     "text": [
      "RMSE: 7.2456883724323164\n",
      "MSE: 52.49999999040087\n"
     ]
    }
   ],
   "source": [
    "rmse = root_mean_squared_error(Y, Y_pred_sigmoid)\n",
    "mse = mean_squared_error(Y, Y_pred_sigmoid)\n",
    "print(f'RMSE: {rmse}')\n",
    "print(f'MSE: {mse}')"
   ]
  },
  {
   "cell_type": "code",
   "execution_count": 8,
   "id": "78fe0062",
   "metadata": {},
   "outputs": [
    {
     "data": {
      "image/png": "[encoded data removed]",
      "text/plain": [
       "<Figure size 640x480 with 1 Axes>"
      ]
     },
     "metadata": {},
     "output_type": "display_data"
    }
   ],
   "source": [
    "plt.plot(range(1000), log, color=\"green\", label=\"error vs epoch\")\n",
    "plt.legend()\n",
    "plt.show()"
   ]
  }
 ],
 "metadata": {
  "kernelspec": {
   "display_name": "Python 3 (ipykernel)",
   "language": "python",
   "name": "python3"
  },
  "language_info": {
   "codemirror_mode": {
    "name": "ipython",
    "version": 3
   },
   "file_extension": ".py",
   "mimetype": "text/x-python",
   "name": "python",
   "nbconvert_exporter": "python",
   "pygments_lexer": "ipython3",
   "version": "3.12.3"
  }
 },
 "nbformat": 4,
 "nbformat_minor": 5
}
