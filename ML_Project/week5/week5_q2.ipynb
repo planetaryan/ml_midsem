{
 "cells": [
  {
   "cell_type": "code",
   "execution_count": 1,
   "id": "9ac2502e",
   "metadata": {},
   "outputs": [],
   "source": [
    "import pandas as pd\n",
    "import numpy as np\n",
    "import matplotlib.pyplot as plt"
   ]
  },
  {
   "cell_type": "code",
   "execution_count": 2,
   "id": "8e6be784",
   "metadata": {},
   "outputs": [
    {
     "name": "stdout",
     "output_type": "stream",
     "text": [
      "Class 0 - Coefficients: b0=-0.3579489417312394, b1=0.8664312822989575, b2=-0.9579327291808118\n",
      "Class 1 - Coefficients: b0=-1.5114631308844304, b1=-0.22295948357456882, b2=0.518264338230998\n",
      "Class 2 - Coefficients: b0=0.9770612771464324, b1=-0.8707554869189524, b2=-0.06352625772825204\n",
      "\n",
      "Final Coefficients for all classes (OvR):\n",
      "Class 0: b0=-0.3579489417312394, b1=0.8664312822989575, b2=-0.9579327291808118\n",
      "Class 1: b0=-1.5114631308844304, b1=-0.22295948357456882, b2=0.518264338230998\n",
      "Class 2: b0=0.9770612771464324, b1=-0.8707554869189524, b2=-0.06352625772825204\n"
     ]
    }
   ],
   "source": [
    "\n",
    "\n",
    "# Initialize DataFrame with multiclass target variable\n",
    "df = pd.DataFrame({\n",
    "    'x1': [4, 2, 1, 3, 1, 6],\n",
    "    'x2': [1, 8, 0, 2, 4, 7],\n",
    "    'y': [0, 1, 2, 0, 2, 1]  # Multiclass labels\n",
    "})\n",
    "\n",
    "# Initialize coefficients and learning rate\n",
    "lr = 0.01\n",
    "n_classes = len(np.unique(df['y']))\n",
    "\n",
    "# Store coefficients for each class\n",
    "coefficients = np.zeros((n_classes, 3))  # 3 coefficients: b0, b1, b2\n",
    "log_errors = []\n",
    "\n",
    "# One-vs-Rest Logistic Regression for each class\n",
    "for i in range(n_classes):\n",
    "    b0, b1, b2 = 0, 0, 0  # Initialize coefficients for each class\n",
    "    epoch_errors = []\n",
    "    pass_preds = []\n",
    "    \n",
    "    for epoch in range(1000):  # Training loop (1000 epochs)\n",
    "        epoch_errors = []\n",
    "        pred_probs = []\n",
    "        \n",
    "        for j in range(len(df)):\n",
    "            # Convert multiclass target into binary (OvR)\n",
    "            y_binary = 1 if df['y'][j] == i else 0\n",
    "            \n",
    "            # Logistic regression prediction (linear combination + sigmoid)\n",
    "            z = b0 + (b1 * df['x1'][j] + b2 * df['x2'][j])\n",
    "            pred_prob = 1 / (1 + np.exp(-z))\n",
    "            pred_probs.append(pred_prob)\n",
    "            \n",
    "            # Error calculation\n",
    "            error = pred_prob - y_binary\n",
    "            epoch_errors.append(error)\n",
    "            \n",
    "            # Pass or fail prediction\n",
    "            pass_pred = 1 if pred_prob > 0.5 else 0\n",
    "            pass_preds.append(pass_pred)\n",
    "        \n",
    "        # Update coefficients\n",
    "        b0 -= (lr * np.sum(epoch_errors)) / len(df)\n",
    "        b1 -= (lr * np.sum(epoch_errors * df['x1'])) / len(df)\n",
    "        b2 -= (lr * np.sum(epoch_errors * df['x2'])) / len(df)\n",
    "        \n",
    "        # Log error (negative log likelihood)\n",
    "        log_error = (-1 / len(df)) * (np.sum(y_binary * np.log(pred_probs) + (1 - y_binary) * np.log(1 - np.array(pred_probs))))\n",
    "        log_errors.append(log_error)\n",
    "    \n",
    "    # Store the final coefficients for this class\n",
    "    coefficients[i] = [b0, b1, b2]\n",
    "\n",
    "    print(f'Class {i} - Coefficients: b0={b0}, b1={b1}, b2={b2}')\n",
    "\n",
    "# Final coefficients for all classes\n",
    "print(\"\\nFinal Coefficients for all classes (OvR):\")\n",
    "for i in range(n_classes):\n",
    "    print(f'Class {i}: b0={coefficients[i][0]}, b1={coefficients[i][1]}, b2={coefficients[i][2]}')\n"
   ]
  },
  {
   "cell_type": "code",
   "execution_count": 4,
   "id": "2b3fd3ab",
   "metadata": {},
   "outputs": [
    {
     "data": {
      "text/html": [
       "<div>\n",
       "<style scoped>\n",
       "    .dataframe tbody tr th:only-of-type {\n",
       "        vertical-align: middle;\n",
       "    }\n",
       "\n",
       "    .dataframe tbody tr th {\n",
       "        vertical-align: top;\n",
       "    }\n",
       "\n",
       "    .dataframe thead th {\n",
       "        text-align: right;\n",
       "    }\n",
       "</style>\n",
       "<table border=\"1\" class=\"dataframe\">\n",
       "  <thead>\n",
       "    <tr style=\"text-align: right;\">\n",
       "      <th></th>\n",
       "      <th>my_prob</th>\n",
       "      <th>my_pred</th>\n",
       "      <th>y</th>\n",
       "    </tr>\n",
       "  </thead>\n",
       "  <tbody>\n",
       "    <tr>\n",
       "      <th>0</th>\n",
       "      <td>0.059012</td>\n",
       "      <td>0</td>\n",
       "      <td>2</td>\n",
       "    </tr>\n",
       "    <tr>\n",
       "      <th>1</th>\n",
       "      <td>0.000126</td>\n",
       "      <td>0</td>\n",
       "      <td>-14</td>\n",
       "    </tr>\n",
       "    <tr>\n",
       "      <th>2</th>\n",
       "      <td>0.366092</td>\n",
       "      <td>0</td>\n",
       "      <td>1</td>\n",
       "    </tr>\n",
       "    <tr>\n",
       "      <th>3</th>\n",
       "      <td>0.033378</td>\n",
       "      <td>0</td>\n",
       "      <td>-1</td>\n",
       "    </tr>\n",
       "    <tr>\n",
       "      <th>4</th>\n",
       "      <td>0.010360</td>\n",
       "      <td>0</td>\n",
       "      <td>-7</td>\n",
       "    </tr>\n",
       "    <tr>\n",
       "      <th>5</th>\n",
       "      <td>0.000068</td>\n",
       "      <td>0</td>\n",
       "      <td>-8</td>\n",
       "    </tr>\n",
       "  </tbody>\n",
       "</table>\n",
       "</div>"
      ],
      "text/plain": [
       "    my_prob  my_pred   y\n",
       "0  0.059012        0   2\n",
       "1  0.000126        0 -14\n",
       "2  0.366092        0   1\n",
       "3  0.033378        0  -1\n",
       "4  0.010360        0  -7\n",
       "5  0.000068        0  -8"
      ]
     },
     "execution_count": 4,
     "metadata": {},
     "output_type": "execute_result"
    }
   ],
   "source": [
    "df['z']=b0+(b1*df['x1'] + b2*df['x2'])\n",
    "df['my_prob']=1/(1+np.exp(-df['z']))\n",
    "df['my_pred']=np.where(df['my_prob']>0.5,1,0)\n",
    "df[['my_prob','my_pred','y']]"
   ]
  },
  {
   "cell_type": "code",
   "execution_count": 5,
   "id": "7957e2b7",
   "metadata": {},
   "outputs": [
    {
     "name": "stdout",
     "output_type": "stream",
     "text": [
      "Accuracy: 0.50\n"
     ]
    }
   ],
   "source": [
    "#Accuracy\n",
    "# Calculate accuracy\n",
    "accuracy = (df['my_pred'] == df['y']).mean()\n",
    "\n",
    "print(f'Accuracy: {accuracy:.2f}')"
   ]
  },
  {
   "cell_type": "code",
   "execution_count": 6,
   "id": "2efe6eb2",
   "metadata": {},
   "outputs": [],
   "source": [
    "from sklearn.model_selection import train_test_split\n",
    "from sklearn.linear_model import LogisticRegression"
   ]
  },
  {
   "cell_type": "code",
   "execution_count": 7,
   "id": "dddd485a",
   "metadata": {},
   "outputs": [
    {
     "name": "stdout",
     "output_type": "stream",
     "text": [
      "Coefficients:\n",
      "[[1.01723881]]\n",
      "Intercept:\n",
      "[-4.72156956]\n"
     ]
    }
   ],
   "source": [
    "# Features and target\n",
    "X = df[['x1','x2']]\n",
    "y = df['y']\n",
    "\n",
    "# Split the data into training and testing sets\n",
    "X_train, X_test, y_train, y_test = train_test_split(X, y, test_size=0.2, random_state=42)\n",
    "\n",
    "# Initialize the Logistic Regression model\n",
    "model = LogisticRegression()\n",
    "\n",
    "# Train the model\n",
    "model.fit(X_train, y_train)\n",
    "\n",
    "# Retrieve the coefficients\n",
    "coefficients = model.coef_\n",
    "intercept = model.intercept_\n",
    "\n",
    "# Print the coefficients and intercept\n",
    "print(\"Coefficients:\")\n",
    "print(coefficients)\n",
    "print(\"Intercept:\")\n",
    "print(intercept)"
   ]
  },
  {
   "cell_type": "code",
   "execution_count": 9,
   "id": "2f751d99",
   "metadata": {},
   "outputs": [
    {
     "data": {
      "text/plain": [
       "<matplotlib.collections.PathCollection at 0x7ee7bfe070b0>"
      ]
     },
     "execution_count": 9,
     "metadata": {},
     "output_type": "execute_result"
    },
    {
     "data": {
      "image/png": "[encoded data removed]",
      "text/plain": [
       "<Figure size 640x480 with 1 Axes>"
      ]
     },
     "metadata": {},
     "output_type": "display_data"
    }
   ],
   "source": [
    "plt.scatter([0,1,2],log_errors,color='red',marker='o')"
   ]
  }
 ],
 "metadata": {
  "kernelspec": {
   "display_name": "Python 3 (ipykernel)",
   "language": "python",
   "name": "python3"
  },
  "language_info": {
   "codemirror_mode": {
    "name": "ipython",
    "version": 3
   },
   "file_extension": ".py",
   "mimetype": "text/x-python",
   "name": "python",
   "nbconvert_exporter": "python",
   "pygments_lexer": "ipython3",
   "version": "3.9.19"
  }
 },
 "nbformat": 4,
 "nbformat_minor": 5
}
